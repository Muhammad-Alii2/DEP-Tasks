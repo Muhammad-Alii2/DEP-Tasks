{
  "nbformat": 4,
  "nbformat_minor": 0,
  "metadata": {
    "colab": {
      "provenance": []
    },
    "kernelspec": {
      "name": "python3",
      "display_name": "Python 3"
    },
    "language_info": {
      "name": "python"
    }
  },
  "cells": [
    {
      "cell_type": "code",
      "source": [
        "import numpy as np\n",
        "import tensorflow as tf\n",
        "import matplotlib.pyplot as plt"
      ],
      "metadata": {
        "id": "7uw4smSKHBf1"
      },
      "execution_count": 27,
      "outputs": []
    },
    {
      "cell_type": "code",
      "source": [
        "# Load the MNIST dataset of handwritten digits\n",
        "(X_train, y_train), (X_test, y_test) = tf.keras.datasets.mnist.load_data()"
      ],
      "metadata": {
        "id": "NJoxoAsvHDyp"
      },
      "execution_count": 28,
      "outputs": []
    },
    {
      "cell_type": "code",
      "source": [
        "# Function to one-hot encode the labels\n",
        "def oneHotEncode(x, n_col=None):\n",
        "    # If the number of columns isn't specified, set it to the max value in x plus one\n",
        "    if not n_col:\n",
        "        n_col = np.amax(x) + 1\n",
        "    # Create a zero matrix of shape (number of samples, number of columns)\n",
        "    one_hot = np.zeros((x.shape[0], n_col))\n",
        "    # Set the appropriate elements to 1\n",
        "    one_hot[np.arange(x.shape[0]), x] = 1\n",
        "    return one_hot"
      ],
      "metadata": {
        "id": "mH0BwfzjI4eO"
      },
      "execution_count": 29,
      "outputs": []
    },
    {
      "cell_type": "code",
      "source": [
        "# One-hot encode the training and test labels\n",
        "y_train, y_test = oneHotEncode(y_train.astype(\"int\")), oneHotEncode(y_test.astype(\"int\"))\n",
        "# Normalize the image data to the range [0, 1]\n",
        "X_train, X_test = X_train / 255.0, X_test / 255.0"
      ],
      "metadata": {
        "id": "xUbTVSv1Iztp"
      },
      "execution_count": 30,
      "outputs": []
    },
    {
      "cell_type": "code",
      "source": [
        "# Flatten the 28x28 images into 784-dimensional vectors\n",
        "X_train, X_test = X_train.reshape(-1, 28*28), X_test.reshape(-1, 28*28)\n",
        "X_train.shape, X_test.shape"
      ],
      "metadata": {
        "colab": {
          "base_uri": "https://localhost:8080/"
        },
        "id": "mzVdHIrsJeZR",
        "outputId": "68b1cb16-88a3-4e32-850b-502c9f478283"
      },
      "execution_count": 31,
      "outputs": [
        {
          "output_type": "execute_result",
          "data": {
            "text/plain": [
              "((60000, 784), (10000, 784))"
            ]
          },
          "metadata": {},
          "execution_count": 31
        }
      ]
    },
    {
      "cell_type": "code",
      "source": [
        "# Define input dimension (784) and output dimension (10 for 10 digits)\n",
        "n_input_dim = 28*28\n",
        "n_out = 10"
      ],
      "metadata": {
        "id": "sP5PxVynJl7y"
      },
      "execution_count": 32,
      "outputs": []
    },
    {
      "cell_type": "code",
      "source": [
        "# Define an Activation class to handle different activation functions\n",
        "class Activation:\n",
        "    def __init__(self, activation, name=\"activation\"):\n",
        "        self.activation = activation\n",
        "        self.gradient = activation.gradient\n",
        "        self.input = None\n",
        "        self.output = None\n",
        "        self.name = name\n",
        "\n",
        "    def forward(self, x):\n",
        "        # Store input and calculate output using the activation function\n",
        "        self.input = x\n",
        "        self.output = self.activation(x)\n",
        "        return self.output\n",
        "\n",
        "    def backward(self, output_error, lr=0.01):\n",
        "        # Calculate the gradient of the loss with respect to the input\n",
        "        return self.gradient(self.input) * output_error\n",
        "\n",
        "    def __call__(self, x):\n",
        "        # Make the object callable and perform the forward pass\n",
        "        return self.forward(x)"
      ],
      "metadata": {
        "id": "K9KnOTynJ0ZH"
      },
      "execution_count": 33,
      "outputs": []
    },
    {
      "cell_type": "code",
      "source": [
        "# Define a Linear (fully connected) layer\n",
        "class Linear:\n",
        "    def __init__(self, n_in, n_out, name=\"linear\"):\n",
        "        # Initialize weights and biases with small random values\n",
        "        limit = 1 / np.sqrt(n_in)\n",
        "        self.W = np.random.uniform(-limit, limit, (n_in, n_out))\n",
        "        self.b = np.zeros((1, n_out))\n",
        "        self.input = None\n",
        "        self.output = None\n",
        "        self.name = name\n",
        "\n",
        "    def forward(self, x):\n",
        "        # Perform the linear transformation\n",
        "        self.input = x\n",
        "        self.output = np.dot(self.input, self.W) + self.b\n",
        "        return self.output\n",
        "\n",
        "    def backward(self, output_error, lr=0.01):\n",
        "        # Compute the gradient with respect to the input, weights, and biases\n",
        "        input_error = np.dot(output_error, self.W.T)\n",
        "        delta = np.dot(self.input.T, output_error)\n",
        "\n",
        "        # Update weights and biases using gradient descent\n",
        "        self.W -= lr * delta\n",
        "        self.b -= lr * np.mean(output_error, axis=0, keepdims=True)\n",
        "        return input_error\n",
        "\n",
        "    def __call__(self, x):\n",
        "        # Make the object callable and perform the forward pass\n",
        "        return self.forward(x)"
      ],
      "metadata": {
        "id": "foZKENGmKAWP"
      },
      "execution_count": 34,
      "outputs": []
    },
    {
      "cell_type": "code",
      "source": [
        "# Define the ReLU activation function\n",
        "class ReLU:\n",
        "    def __init__(self, alpha=0.2):\n",
        "        self.alpha = alpha\n",
        "\n",
        "    def __call__(self, x):\n",
        "        return self.activation(x)\n",
        "\n",
        "    def activation(self, x):\n",
        "        # ReLU activation: max(0, x) with leaky part\n",
        "        return np.where(x >= 0, x, self.alpha * x)\n",
        "\n",
        "    def gradient(self, x):\n",
        "        # Gradient of ReLU: 1 for x >= 0, alpha otherwise\n",
        "        return np.where(x >= 0, 1, self.alpha)"
      ],
      "metadata": {
        "id": "SmD5DC3oKSsF"
      },
      "execution_count": 35,
      "outputs": []
    },
    {
      "cell_type": "code",
      "source": [
        "# Define the Softmax activation function\n",
        "class Softmax:\n",
        "    def __call__(self, x):\n",
        "        return self.activation(x)\n",
        "\n",
        "    def activation(self, x):\n",
        "        # Softmax activation: e^x / sum(e^x)\n",
        "        e_x = np.exp(x - np.max(x, axis=-1, keepdims=True))\n",
        "        return e_x / np.sum(e_x, axis=-1, keepdims=True)\n",
        "\n",
        "    def gradient(self, x):\n",
        "        # Gradient of Softmax: p * (1 - p)\n",
        "        p = self.activation(x)\n",
        "        return p * (1 - p)"
      ],
      "metadata": {
        "id": "5tfik047KWTB"
      },
      "execution_count": 36,
      "outputs": []
    },
    {
      "cell_type": "code",
      "source": [
        "# Define the neural network architecture\n",
        "class Network:\n",
        "    def __init__(self, input_dim, output_dim, lr=0.01):\n",
        "        # Create the network layers\n",
        "        self.layers = [\n",
        "            Linear(input_dim, 256, name=\"input\"),\n",
        "            Activation(ReLU(), name=\"relu1\"),\n",
        "            Linear(256, 128, name=\"hidden1\"),\n",
        "            Activation(ReLU(), name=\"relu2\"),\n",
        "            Linear(128, output_dim, name=\"output\"),\n",
        "            Activation(Softmax(), name=\"softmax\")\n",
        "        ]\n",
        "        self.lr = lr\n",
        "\n",
        "    def forward(self, x):\n",
        "        # Perform forward pass through all layers\n",
        "        for layer in self.layers:\n",
        "            x = layer(x)\n",
        "        return x\n",
        "\n",
        "    def backward(self, loss_grad):\n",
        "        # Perform backward pass through all layers\n",
        "        for layer in reversed(self.layers):\n",
        "            loss_grad = layer.backward(loss_grad, self.lr)\n",
        "\n",
        "    def __call__(self, x):\n",
        "        # Make the object callable and perform the forward pass\n",
        "        return self.forward(x)"
      ],
      "metadata": {
        "id": "zgVOpF6QKMth"
      },
      "execution_count": 37,
      "outputs": []
    },
    {
      "cell_type": "code",
      "source": [
        "# Define the Cross-Entropy loss function\n",
        "class CrossEntropy:\n",
        "    def __init__(self):\n",
        "        pass\n",
        "\n",
        "    def loss(self, y, p):\n",
        "        # Calculate the cross-entropy loss\n",
        "        p = np.clip(p, 1e-15, 1 - 1e-15)\n",
        "        return -np.sum(y * np.log(p), axis=1)\n",
        "\n",
        "    def gradient(self, y, p):\n",
        "        # Calculate the gradient of the cross-entropy loss\n",
        "        p = np.clip(p, 1e-15, 1 - 1e-15)\n",
        "        return -(y / p) + (1 - y) / (1 - p)"
      ],
      "metadata": {
        "id": "ciZJepkOKcqX"
      },
      "execution_count": 38,
      "outputs": []
    },
    {
      "cell_type": "code",
      "source": [
        "# Initialize the loss function and the model\n",
        "criterion = CrossEntropy()\n",
        "model = Network(n_input_dim, n_out, lr=1e-3)"
      ],
      "metadata": {
        "id": "UGyIHSfFKbcD"
      },
      "execution_count": 39,
      "outputs": []
    },
    {
      "cell_type": "code",
      "source": [
        "# Training parameters\n",
        "EPOCHS = 10\n",
        "BATCH_SIZE = 64"
      ],
      "metadata": {
        "id": "lZnL_NK5KgDN"
      },
      "execution_count": 40,
      "outputs": []
    },
    {
      "cell_type": "code",
      "source": [
        "# Generator function to load data in batches\n",
        "def batchLoader(X, y=None, batch_size=BATCH_SIZE):\n",
        "    n_samples = X.shape[0]\n",
        "    for i in np.arange(0, n_samples, batch_size):\n",
        "        begin, end = i, min(i + batch_size, n_samples)\n",
        "        if y is not None:\n",
        "            yield X[begin:end], y[begin:end]\n",
        "        else:\n",
        "            yield X[begin:end]"
      ],
      "metadata": {
        "id": "AW5ez-xkK0Hl"
      },
      "execution_count": 41,
      "outputs": []
    },
    {
      "cell_type": "code",
      "source": [
        "# Function to calculate accuracy\n",
        "def accuracy(y_true, y_pred):\n",
        "    return np.sum(y_true == y_pred) / len(y_true)"
      ],
      "metadata": {
        "id": "fPDWDWTOK6Ou"
      },
      "execution_count": 42,
      "outputs": []
    },
    {
      "cell_type": "code",
      "source": [
        "# Initialize lists to store training loss and accuracy history\n",
        "train_loss_history = []\n",
        "train_acc_history = []"
      ],
      "metadata": {
        "id": "B7V7gTLhPt_U"
      },
      "execution_count": 43,
      "outputs": []
    },
    {
      "cell_type": "code",
      "source": [
        "# Training loop\n",
        "for epoch in range(EPOCHS):\n",
        "    loss = []\n",
        "    acc = []\n",
        "    for x_batch, y_batch in batchLoader(X_train, y_train):\n",
        "        # Forward pass\n",
        "        out = model(x_batch)\n",
        "        # Compute loss and accuracy\n",
        "        loss.append(np.mean(criterion.loss(y_batch, out)))\n",
        "        acc.append(accuracy(np.argmax(y_batch, axis=1), np.argmax(out, axis=1)))\n",
        "        # Backward pass\n",
        "        error = criterion.gradient(y_batch, out)\n",
        "        model.backward(error)\n",
        "\n",
        "    # Compute mean loss and accuracy for the epoch\n",
        "    mean_loss = np.mean(loss)\n",
        "    mean_acc = np.mean(acc)\n",
        "    train_loss_history.append(mean_loss)\n",
        "    train_acc_history.append(mean_acc)\n",
        "    print(f\"Epoch {epoch + 1}, Loss: {mean_loss}, Acc: {mean_acc}\")"
      ],
      "metadata": {
        "colab": {
          "base_uri": "https://localhost:8080/"
        },
        "id": "yKw5D7_KKitL",
        "outputId": "0e4c9ba5-9f7e-41fc-d372-3363a85c449f"
      },
      "execution_count": 44,
      "outputs": [
        {
          "output_type": "stream",
          "name": "stdout",
          "text": [
            "Epoch 1, Loss: 0.5752995890419116, Acc: 0.8523121002132196\n",
            "Epoch 2, Loss: 0.2550150071933093, Acc: 0.9262393390191898\n",
            "Epoch 3, Loss: 0.18894560860660764, Acc: 0.9452292110874201\n",
            "Epoch 4, Loss: 0.14916269112377065, Acc: 0.9563399520255863\n",
            "Epoch 5, Loss: 0.12287298014567197, Acc: 0.9641191364605544\n",
            "Epoch 6, Loss: 0.10391104539467873, Acc: 0.9704824093816631\n",
            "Epoch 7, Loss: 0.0893025283526879, Acc: 0.974646855010661\n",
            "Epoch 8, Loss: 0.07766575487216205, Acc: 0.9776619136460555\n",
            "Epoch 9, Loss: 0.0680715630681454, Acc: 0.9807935767590619\n",
            "Epoch 10, Loss: 0.060047785091066265, Acc: 0.9836420575692963\n"
          ]
        }
      ]
    },
    {
      "cell_type": "code",
      "source": [
        "# Evaluate the model on the test set\n",
        "out = model(X_test)\n",
        "test_accuracy = accuracy(np.argmax(y_test, axis=1), np.argmax(out, axis=1))\n",
        "print(f\"Test Accuracy: {test_accuracy}\")"
      ],
      "metadata": {
        "colab": {
          "base_uri": "https://localhost:8080/"
        },
        "id": "1-jywiPrKlXn",
        "outputId": "3f0b9c4a-f211-479d-9c83-6e9395ec9d27"
      },
      "execution_count": 45,
      "outputs": [
        {
          "output_type": "stream",
          "name": "stdout",
          "text": [
            "Test Accuracy: 0.9736\n"
          ]
        }
      ]
    },
    {
      "cell_type": "code",
      "source": [
        "# Plot training loss\n",
        "plt.figure(figsize=(12, 4))\n",
        "plt.subplot(1, 2, 1)\n",
        "plt.plot(train_loss_history, label='Train Loss')\n",
        "plt.xlabel('Epochs')\n",
        "plt.ylabel('Loss')\n",
        "plt.title('Training Loss')\n",
        "plt.legend()"
      ],
      "metadata": {
        "colab": {
          "base_uri": "https://localhost:8080/",
          "height": 428
        },
        "id": "gMbbWafzK9Wf",
        "outputId": "bd9179c5-9018-4bbc-e389-eea346b0d754"
      },
      "execution_count": 46,
      "outputs": [
        {
          "output_type": "execute_result",
          "data": {
            "text/plain": [
              "<matplotlib.legend.Legend at 0x7a57acb21030>"
            ]
          },
          "metadata": {},
          "execution_count": 46
        },
        {
          "output_type": "display_data",
          "data": {
            "text/plain": [
              "<Figure size 1200x400 with 1 Axes>"
            ],
            "image/png": "[encoded data removed]"
          },
          "metadata": {}
        }
      ]
    },
    {
      "cell_type": "code",
      "source": [
        "# Plot training accuracy\n",
        "plt.subplot(1, 2, 2)\n",
        "plt.plot(train_acc_history, label='Train Accuracy')\n",
        "plt.xlabel('Epochs')\n",
        "plt.ylabel('Accuracy')\n",
        "plt.title('Training Accuracy')\n",
        "plt.legend()"
      ],
      "metadata": {
        "colab": {
          "base_uri": "https://localhost:8080/",
          "height": 490
        },
        "id": "WiJ-u4VdP3f1",
        "outputId": "c329990a-aa7a-4bd5-e6cd-f1e43fb263ea"
      },
      "execution_count": 47,
      "outputs": [
        {
          "output_type": "execute_result",
          "data": {
            "text/plain": [
              "<matplotlib.legend.Legend at 0x7a57aa8bbf70>"
            ]
          },
          "metadata": {},
          "execution_count": 47
        },
        {
          "output_type": "display_data",
          "data": {
            "text/plain": [
              "<Figure size 640x480 with 1 Axes>"
            ],
            "image/png": "[encoded data removed]"
          },
          "metadata": {}
        }
      ]
    },
    {
      "cell_type": "code",
      "source": [
        "# Function to plot an image with its predicted and true labels\n",
        "def plot_image_with_prediction(model, X_test, y_test, index):\n",
        "    image = X_test[index].reshape(28, 28)\n",
        "\n",
        "    # Get the model's prediction for the given image\n",
        "    prediction = model(X_test[index].reshape(1, -1))\n",
        "    predicted_label = np.argmax(prediction)\n",
        "    true_label = np.argmax(y_test[index])\n",
        "\n",
        "    # Plot the image with the true and predicted labels\n",
        "    plt.imshow(image, cmap='gray')\n",
        "    plt.title(f\"True Label: {true_label}, Predicted: {predicted_label}\")\n",
        "    plt.axis('off')\n",
        "    plt.show()\n",
        "\n",
        "# Plot a specific image with its prediction\n",
        "plot_image_with_prediction(model, X_test, y_test, index=555)"
      ],
      "metadata": {
        "colab": {
          "base_uri": "https://localhost:8080/",
          "height": 428
        },
        "id": "srY6SdEgP-6M",
        "outputId": "efd511f7-a82d-469d-ff01-5855f292eba0"
      },
      "execution_count": 48,
      "outputs": [
        {
          "output_type": "display_data",
          "data": {
            "text/plain": [
              "<Figure size 640x480 with 1 Axes>"
            ],
            "image/png": "[encoded data removed]"
          },
          "metadata": {}
        }
      ]
    }
  ]
}